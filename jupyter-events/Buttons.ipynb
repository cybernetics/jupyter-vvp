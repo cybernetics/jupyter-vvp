{
 "cells": [
  {
   "cell_type": "code",
   "execution_count": 11,
   "metadata": {},
   "outputs": [
    {
     "data": {
      "application/vnd.jupyter.widget-view+json": {
       "model_id": "7e49e4315c4e48d28efe71e12736b796",
       "version_major": 2,
       "version_minor": 0
      },
      "text/plain": [
       "HBox(children=(Output(), Interval(value=3000)))"
      ]
     },
     "metadata": {},
     "output_type": "display_data"
    }
   ],
   "source": [
    "import ipywidgets as widgets\n",
    "\n",
    "from jupyter_interval_widget import Interval\n",
    "\n",
    "from IPython.display import display, clear_output\n",
    "import random\n",
    "import string\n",
    "\n",
    "def random_string(n=4):\n",
    "    return ''.join(random.choices(string.digits + \"abcdef\", k=n))\n",
    "\n",
    "output = widgets.Output()\n",
    "\n",
    "def get_deployment_status():\n",
    "    if random.randint(0,1):\n",
    "        return \"success\"\n",
    "    return \"danger\"\n",
    "\n",
    "def update_output(self):\n",
    "    with output:\n",
    "        clear_output(wait=True)\n",
    "        status = get_deployment_status()\n",
    "        print(\"Status: {}.\".format(status))\n",
    "        \n",
    "        display(\n",
    "            widgets.Button(\n",
    "                description=status,\n",
    "                disabled=False,\n",
    "                button_style=status, # 'success', 'info', 'warning', 'danger' or ''\n",
    "                tooltip='Click to refresh deployment status',\n",
    "                icon='refresh' # (FontAwesome names without the `fa-` prefix)\n",
    "            )\n",
    "        )\n",
    "\n",
    "interval = Interval(value=3000)\n",
    "interval.on_tick(update_output)\n",
    "\n",
    "display(widgets.HBox(children=(output, interval)))"
   ]
  },
  {
   "cell_type": "code",
   "execution_count": 10,
   "metadata": {},
   "outputs": [],
   "source": [
    "interval.close_all()\n"
   ]
  },
  {
   "cell_type": "code",
   "execution_count": 28,
   "metadata": {},
   "outputs": [
    {
     "data": {
      "application/vnd.jupyter.widget-view+json": {
       "model_id": "e25f04b3720d4f82ae71188be54095d7",
       "version_major": 2,
       "version_minor": 0
      },
      "text/plain": [
       "HBox(children=(Button(button_style='info', description='Refresh', icon='refresh', style=ButtonStyle(), tooltip…"
      ]
     },
     "metadata": {},
     "output_type": "display_data"
    }
   ],
   "source": [
    "import ipywidgets as widgets\n",
    "\n",
    "from IPython.display import display, clear_output\n",
    "import random\n",
    "import string\n",
    "import time\n",
    "\n",
    "def random_string(n=4):\n",
    "    return ''.join(random.choices(string.digits + \"abcdef\", k=n))\n",
    "\n",
    "output = widgets.Output()\n",
    "\n",
    "def get_deployment_status():\n",
    "    time.sleep(1)\n",
    "    if random.randint(0,1):\n",
    "        return \"success\"\n",
    "    return \"danger\"\n",
    "\n",
    "\n",
    "def update_button(b):\n",
    "    with output:\n",
    "        button.disabled=True\n",
    "        clear_output(wait=True)\n",
    "        print(\"Getting status...\")\n",
    "        status = get_deployment_status()\n",
    "        clear_output(wait=True)\n",
    "        print(\"Status: {}.\".format(status))\n",
    "        button.button_style=status\n",
    "        button.disabled=False\n",
    "\n",
    "button = widgets.Button(\n",
    "                description=\"Refresh\",\n",
    "                disabled=False,\n",
    "                button_style=\"info\", # 'success', 'info', 'warning', 'danger' or ''\n",
    "                tooltip='Click to refresh deployment status',\n",
    "                icon='refresh' # (FontAwesome names without the `fa-` prefix)\n",
    "            )            \n",
    "button.on_click(update_button)\n",
    "\n",
    "with output:\n",
    "    print(\"Status: transitioning.\")\n",
    "display(widgets.HBox(children=(button,output)))\n"
   ]
  }
 ],
 "metadata": {
  "celltoolbar": "Attachments",
  "kernelspec": {
   "display_name": "Python 3",
   "language": "python",
   "name": "python3"
  },
  "language_info": {
   "codemirror_mode": {
    "name": "ipython",
    "version": 3
   },
   "file_extension": ".py",
   "mimetype": "text/x-python",
   "name": "python",
   "nbconvert_exporter": "python",
   "pygments_lexer": "ipython3",
   "version": "3.6.9"
  }
 },
 "nbformat": 4,
 "nbformat_minor": 4
}
