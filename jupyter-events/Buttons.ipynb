{
 "cells": [
  {
   "cell_type": "code",
   "execution_count": 103,
   "metadata": {},
   "outputs": [
    {
     "data": {
      "application/vnd.jupyter.widget-view+json": {
       "model_id": "a55a535086ac4596a1f8ea26b5a2efea",
       "version_major": 2,
       "version_minor": 0
      },
      "text/plain": [
       "HBox(children=(Output(), Interval(value=2000)))"
      ]
     },
     "metadata": {},
     "output_type": "display_data"
    }
   ],
   "source": [
    "import ipywidgets as widgets\n",
    "from jupyter_interval_widget import Interval\n",
    "from IPython.display import display, clear_output\n",
    "import time\n",
    "import random\n",
    "import string\n",
    "\n",
    "def random_string(n=4):\n",
    "    return ''.join(random.choices(string.digits + \"abcdef\", k=n))\n",
    "\n",
    "def random_boolean():\n",
    "    return random.randint(0,1)\n",
    "\n",
    "output = widgets.Output()\n",
    "\n",
    "def get_deployment_status():\n",
    "    if random_boolean():\n",
    "        return \"success\"\n",
    "    return \"danger\"\n",
    "\n",
    "def update_output(self):\n",
    "    with output:\n",
    "        clear_output(wait=True)\n",
    "        status = get_deployment_status()\n",
    "        print(\"Status: {}.\".format(status))\n",
    "        \n",
    "        \n",
    "        display(\n",
    "            widgets.Button(\n",
    "                description=status,\n",
    "                disabled=False,\n",
    "                button_style=status, # 'success', 'info', 'warning', 'danger' or ''\n",
    "                tooltip='Click to refresh deployment status',\n",
    "                icon='refresh' # (FontAwesome names without the `fa-` prefix)\n",
    "            )\n",
    "        )\n",
    "\n",
    "interval = Interval(value=2000)\n",
    "interval.on_tick(update_output)\n",
    "\n",
    "display(widgets.HBox(children=(output, interval)))"
   ]
  },
  {
   "cell_type": "code",
   "execution_count": 102,
   "metadata": {},
   "outputs": [],
   "source": [
    "interval.close_all()\n"
   ]
  },
  {
   "cell_type": "code",
   "execution_count": 95,
   "metadata": {},
   "outputs": [
    {
     "data": {
      "text/plain": [
       "'0'"
      ]
     },
     "execution_count": 95,
     "metadata": {},
     "output_type": "execute_result"
    }
   ],
   "source": []
  }
 ],
 "metadata": {
  "celltoolbar": "Attachments",
  "kernelspec": {
   "display_name": "Python 3",
   "language": "python",
   "name": "python3"
  },
  "language_info": {
   "codemirror_mode": {
    "name": "ipython",
    "version": 3
   },
   "file_extension": ".py",
   "mimetype": "text/x-python",
   "name": "python",
   "nbconvert_exporter": "python",
   "pygments_lexer": "ipython3",
   "version": "3.6.9"
  }
 },
 "nbformat": 4,
 "nbformat_minor": 4
}
