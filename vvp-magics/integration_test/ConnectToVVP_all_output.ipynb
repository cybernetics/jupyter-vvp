{
 "cells": [
  {
   "cell_type": "code",
   "execution_count": 1,
   "metadata": {},
   "outputs": [
    {
     "name": "stdout",
     "output_type": "stream",
     "text": [
      "Loading vvp-vvpmagics.\n",
      "Registering vvpmagics for vvp.\n"
     ]
    }
   ],
   "source": [
    "%load_ext vvpmagics"
   ]
  },
  {
   "cell_type": "code",
   "execution_count": 2,
   "metadata": {},
   "outputs": [
    {
     "name": "stdout",
     "output_type": "stream",
     "text": [
      "Requesting from http://localhost:8080/namespaces/v1/namespaces...\n"
     ]
    },
    {
     "data": {
      "text/plain": [
       "{'namespaces': [{'name': 'namespaces/default',\n",
       "   'roleBindings': [{'role': 'owner', 'members': ['system:authenticated']}],\n",
       "   'createTime': '2020-06-10T07:01:22.066803Z',\n",
       "   'lifecyclePhase': 'LIFECYCLE_PHASE_ACTIVE'}]}"
      ]
     },
     "execution_count": 2,
     "metadata": {},
     "output_type": "execute_result"
    }
   ],
   "source": [
    "%connect_vvp localhost"
   ]
  },
  {
   "cell_type": "code",
   "execution_count": 3,
   "metadata": {
    "pycharm": {
     "name": "#%%\n"
    }
   },
   "outputs": [
    {
     "data": {
      "text/plain": [
       "<vvpmagics.vvpsession.VvpSession at 0x22501b77d00>"
      ]
     },
     "execution_count": 3,
     "metadata": {},
     "output_type": "execute_result"
    }
   ],
   "source": [
    "%connect_vvp -n default localhost -s mySession"
   ]
  }
 ],
 "metadata": {
  "kernelspec": {
   "display_name": "Python 3",
   "language": "python",
   "name": "python3"
  },
  "language_info": {
   "codemirror_mode": {
    "name": "ipython",
    "version": 3
   },
   "file_extension": ".py",
   "mimetype": "text/x-python",
   "name": "python",
   "nbconvert_exporter": "python",
   "pygments_lexer": "ipython3",
   "version": "3.8.3"
  }
 },
 "nbformat": 4,
 "nbformat_minor": 4
}