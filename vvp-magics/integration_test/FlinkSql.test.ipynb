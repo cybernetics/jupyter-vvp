{
 "cells": [
  {
   "cell_type": "code",
   "execution_count": 1,
   "outputs": [
    {
     "name": "stdout",
     "output_type": "stream",
     "text": [
      "Using table name testTable.\n"
     ]
    }
   ],
   "source": [
    "import random\n",
    "#table_name = 'testTable_'+ ''.join(random.choices(\"abcdef0123456789\", k=4))\n",
    "table_name = 'testTable'\n",
    "print(\"Using table name {}.\".format(table_name))"
   ],
   "metadata": {
    "collapsed": false,
    "pycharm": {
     "name": "#%%\n"
    }
   }
  },
  {
   "cell_type": "code",
   "execution_count": 2,
   "outputs": [
    {
     "name": "stdout",
     "output_type": "stream",
     "text": [
      "Loading vvp-vvpmagics.\n",
      "Registering vvpmagics for vvp.\n"
     ]
    },
    {
     "data": {
      "text/plain": "<vvpmagics.vvpsession.VvpSession at 0x7fc0c879dfd0>"
     },
     "execution_count": 2,
     "metadata": {},
     "output_type": "execute_result"
    }
   ],
   "source": [
    "%reload_ext vvpmagics\n",
    "%connect_vvp -n default localhost -s mySession --force true"
   ],
   "metadata": {
    "collapsed": false,
    "pycharm": {
     "name": "#%%\n"
    }
   }
  },
  {
   "cell_type": "code",
   "execution_count": 3,
   "outputs": [
    {
     "name": "stdout",
     "output_type": "stream",
     "text": [
      "Invalid or unsupported SQL statement.\n",
      "Details:\n",
      "{'validationResult': 'VALIDATION_RESULT_INVALID_QUERY', 'errorDetails': {'lineNumber': 0, 'columnNumber': 0, 'endLineNumber': 0, 'endColumnNumber': 0, 'message': 'Table `default`.`default`.`$table_name` already exist.', 'cause': ''}}\n"
     ]
    },
    {
     "data": {
      "text/plain": "-1"
     },
     "execution_count": 3,
     "metadata": {},
     "output_type": "execute_result"
    }
   ],
   "source": [
    "%%flink_sql\n",
    "CREATE TABLE `$table_name` (id int)\n",
    "COMMENT 'SomeComment'\n",
    "WITH (\n",
    "'connector.type' = 'kafka',\n",
    "'connector.version' = 'universal',\n",
    "'connector.topic' = 'testTopic',\n",
    "'connector.properties.bootstrap.servers' = 'localhost',\n",
    "'connector.properties.group.id' = 'testGroup',\n",
    "'connector.startup-mode' = 'earliest-offset'\n",
    ")"
   ],
   "metadata": {
    "collapsed": false,
    "pycharm": {
     "name": "#%%\n"
    }
   }
  },
  {
   "cell_type": "code",
   "execution_count": 75,
   "outputs": [
    {
     "data": {
      "text/plain": "{'result': 'RESULT_SUCCESS_WITH_ROWS',\n 'resultTable': {'headers': [{'name': 'table name'}],\n  'rows': [{'cells': [{'value': '$table_name'}]}]}}"
     },
     "execution_count": 75,
     "metadata": {},
     "output_type": "execute_result"
    }
   ],
   "source": [
    "%%flink_sql\n",
    "SHOW TABLES"
   ],
   "metadata": {
    "collapsed": false,
    "pycharm": {
     "name": "#%%\n"
    }
   }
  },
  {
   "cell_type": "code",
   "execution_count": 76,
   "outputs": [
    {
     "data": {
      "text/plain": "{'result': 'RESULT_SUCCESS_WITH_ROWS',\n 'resultTable': {'headers': [{'name': 'name'},\n   {'name': 'type'},\n   {'name': 'null'},\n   {'name': 'key'},\n   {'name': 'computed column'},\n   {'name': 'watermark'}],\n  'rows': [{'cells': [{'value': 'id'},\n     {'value': 'INT'},\n     {'value': 'true'},\n     {'value': ''},\n     {'value': ''},\n     {'value': ''}]}]}}"
     },
     "execution_count": 76,
     "metadata": {},
     "output_type": "execute_result"
    }
   ],
   "source": [
    "%%flink_sql\n",
    "DESCRIBE $table_name"
   ],
   "metadata": {
    "collapsed": false,
    "pycharm": {
     "name": "#%%\n"
    }
   }
  },
  {
   "cell_type": "code",
   "execution_count": 77,
   "outputs": [
    {
     "data": {
      "text/plain": "{'result': 'RESULT_SUCCESS'}"
     },
     "execution_count": 77,
     "metadata": {},
     "output_type": "execute_result"
    }
   ],
   "source": [
    "%%flink_sql\n",
    "ALTER TABLE `$table_name` SET (\n",
    "  'connector.properties.bootstrap.servers' = 'localhost',\n",
    "  'connector.properties.group.id' = 'testGroup',\n",
    "  'connector.startup-mode' = 'earliest-offset',\n",
    "  'connector.topic' = 'testTopic2',\n",
    "  'connector.type' = 'kafka',\n",
    "  'connector.version' = 'universal'\n",
    ")"
   ],
   "metadata": {
    "collapsed": false,
    "pycharm": {
     "name": "#%%\n"
    }
   }
  },
  {
   "cell_type": "code",
   "execution_count": 78,
   "outputs": [
    {
     "data": {
      "text/plain": "{'result': 'RESULT_SUCCESS'}"
     },
     "execution_count": 78,
     "metadata": {},
     "output_type": "execute_result"
    }
   ],
   "source": [
    "%%flink_sql\n",
    "DROP TABLE `$table_name`"
   ],
   "metadata": {
    "collapsed": false,
    "pycharm": {
     "name": "#%%\n"
    }
   }
  },
  {
   "cell_type": "code",
   "execution_count": 79,
   "outputs": [
    {
     "data": {
      "text/plain": "{'result': 'RESULT_SUCCESS_WITH_ROWS',\n 'resultTable': {'headers': [{'name': 'table name'}], 'rows': []}}"
     },
     "execution_count": 79,
     "metadata": {},
     "output_type": "execute_result"
    }
   ],
   "source": [
    "%%flink_sql\n",
    "SHOW TABLES"
   ],
   "metadata": {
    "collapsed": false,
    "pycharm": {
     "name": "#%%\n"
    }
   }
  }
 ],
 "metadata": {
  "kernelspec": {
   "name": "python3",
   "language": "python",
   "display_name": "Python 3"
  },
  "language_info": {
   "codemirror_mode": {
    "name": "ipython",
    "version": 2
   },
   "file_extension": ".py",
   "mimetype": "text/x-python",
   "name": "python",
   "nbconvert_exporter": "python",
   "pygments_lexer": "ipython2",
   "version": "2.7.6"
  }
 },
 "nbformat": 4,
 "nbformat_minor": 0
}