{
 "cells": [
  {
   "cell_type": "code",
   "execution_count": 1,
   "metadata": {
    "pycharm": {
     "name": "#%%\n"
    }
   },
   "outputs": [
    {
     "name": "stdout",
     "output_type": "stream",
     "text": [
      "Loading vvp-vvpmagics.\n",
      "Registering vvpmagics for vvp.\n"
     ]
    },
    {
     "data": {
      "text/plain": [
       "<vvpmagics.vvpsession.VvpSession at 0x7fc1b4520d30>"
      ]
     },
     "execution_count": 1,
     "metadata": {},
     "output_type": "execute_result"
    }
   ],
   "source": [
    "%reload_ext vvpmagics\n",
    "%connect_vvp -n default localhost -s mySession --force true"
   ]
  },
  {
   "cell_type": "code",
   "execution_count": 2,
   "metadata": {
    "pycharm": {
     "name": "#%%\n"
    }
   },
   "outputs": [
    {
     "data": {
      "text/plain": [
       "{'result': 'RESULT_SUCCESS'}"
      ]
     },
     "execution_count": 2,
     "metadata": {},
     "output_type": "execute_result"
    }
   ],
   "source": [
    "%%flink_sql\n",
    "CREATE TABLE `testTable1` (id int)\n",
    "COMMENT 'SomeComment'\n",
    "WITH (\n",
    "    'connector.type' = 'kafka',\n",
    "    'connector.version' = 'universal',\n",
    "    'connector.topic' = 'topic',\n",
    "    'connector.properties.bootstrap.servers' = 'localhost',\n",
    "    'format.type' = 'json',\n",
    "    'format.derive-schema' = 'true'\n",
    ")"
   ]
  },
  {
   "cell_type": "code",
   "execution_count": null,
   "metadata": {
    "pycharm": {
     "name": "#%%\n"
    }
   },
   "outputs": [],
   "source": [
    "%%flink_sql\n",
    "SHOW TABLES"
   ]
  },
  {
   "cell_type": "code",
   "execution_count": null,
   "metadata": {
    "pycharm": {
     "name": "#%%\n"
    }
   },
   "outputs": [],
   "source": [
    "%%flink_sql -o df_testtable1\n",
    "DESCRIBE testTable1"
   ]
  },
  {
   "cell_type": "code",
   "execution_count": null,
   "metadata": {},
   "outputs": [],
   "source": [
    "df_testtable1"
   ]
  },
  {
   "cell_type": "code",
   "execution_count": null,
   "metadata": {
    "pycharm": {
     "name": "#%%\n"
    }
   },
   "outputs": [],
   "source": [
    "%%flink_sql\n",
    "ALTER TABLE `testTable1` SET (\n",
    "    'connector.type' = 'kafka',\n",
    "    'connector.version' = 'universal',\n",
    "    'connector.topic' = 'topic1',\n",
    "    'connector.properties.bootstrap.servers' = 'localhost',\n",
    "    'format.type' = 'json',\n",
    "    'format.derive-schema' = 'true'\n",
    ")"
   ]
  },
  {
   "cell_type": "code",
   "execution_count": 3,
   "metadata": {
    "pycharm": {
     "name": "#%%\n"
    }
   },
   "outputs": [
    {
     "data": {
      "text/plain": [
       "{'result': 'RESULT_SUCCESS'}"
      ]
     },
     "execution_count": 3,
     "metadata": {},
     "output_type": "execute_result"
    }
   ],
   "source": [
    "%%flink_sql\n",
    "CREATE TABLE `testTable2` (id int)\n",
    "COMMENT 'SomeComment'\n",
    "WITH (\n",
    "    'connector.type' = 'kafka',\n",
    "    'connector.version' = 'universal',\n",
    "    'connector.topic' = 'topic',\n",
    "    'connector.properties.bootstrap.servers' = 'localhost',\n",
    "    'format.type' = 'json',\n",
    "    'format.derive-schema' = 'true'\n",
    ")"
   ]
  },
  {
   "cell_type": "code",
   "execution_count": 4,
   "metadata": {},
   "outputs": [],
   "source": [
    "my_deployment_parameters = {\n",
    "        \"metadata.name\": \"testName\",\n",
    "        \"spec.template.spec.parallelism\": 2,\n",
    "        \"spec.upradeStrategy.kind\": \"STATEFUL\",\n",
    "        \"spec.restoreStrategy.kind\": \"LATEST_STATE\",\n",
    "        \"spec.template.spec.flinkConfiguration.state.backend\": \"filesystem\",\n",
    "        \"spec.template.spec.flinkConfiguration.taskmanager.memory.managed.fraction\": \"0.1\",\n",
    "        \"spec.template.spec.flinkConfiguration.high-availability\": \"vvp-kubernetes\"\n",
    "}"
   ]
  },
  {
   "cell_type": "markdown",
   "metadata": {},
   "source": [
    "The following succeeds only when a deployment target has been set up as the default using the platform:"
   ]
  },
  {
   "cell_type": "code",
   "execution_count": 5,
   "metadata": {
    "pycharm": {
     "name": "#%%\n"
    }
   },
   "outputs": [
    {
     "data": {
      "application/vnd.jupyter.widget-view+json": {
       "model_id": "0c4f71e1dbd1424992d69b8eb6a53635",
       "version_major": 2,
       "version_minor": 0
      },
      "text/plain": [
       "HBox(children=(Button(button_style='info', description='Refresh', icon='refresh', style=ButtonStyle(), tooltip…"
      ]
     },
     "metadata": {},
     "output_type": "display_data"
    },
    {
     "data": {
      "text/plain": [
       "'843de9b1-fbd0-4820-842e-5a26b9739a7b'"
      ]
     },
     "execution_count": 5,
     "metadata": {},
     "output_type": "execute_result"
    }
   ],
   "source": [
    "%%flink_sql -p my_deployment_parameters -d\n",
    "INSERT INTO testTable2 SELECT * FROM testTable1"
   ]
  },
  {
   "cell_type": "code",
   "execution_count": null,
   "metadata": {
    "pycharm": {
     "name": "#%%\n"
    }
   },
   "outputs": [],
   "source": [
    "%%flink_sql\n",
    "DROP TABLE `testTable1`"
   ]
  },
  {
   "cell_type": "code",
   "execution_count": null,
   "metadata": {
    "pycharm": {
     "name": "#%%\n"
    }
   },
   "outputs": [],
   "source": [
    "%%flink_sql\n",
    "DROP TABLE `testTable2`"
   ]
  },
  {
   "cell_type": "code",
   "execution_count": null,
   "metadata": {
    "pycharm": {
     "name": "#%%\n"
    }
   },
   "outputs": [],
   "source": [
    "%%flink_sql\n",
    "SHOW TABLES"
   ]
  }
 ],
 "metadata": {
  "kernelspec": {
   "display_name": "Python 3",
   "language": "python",
   "name": "python3"
  },
  "language_info": {
   "codemirror_mode": {
    "name": "ipython",
    "version": 3
   },
   "file_extension": ".py",
   "mimetype": "text/x-python",
   "name": "python",
   "nbconvert_exporter": "python",
   "pygments_lexer": "ipython3",
   "version": "3.6.9"
  }
 },
 "nbformat": 4,
 "nbformat_minor": 1
}
