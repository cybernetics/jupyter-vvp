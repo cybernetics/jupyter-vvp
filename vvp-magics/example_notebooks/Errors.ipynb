{
 "cells": [
  {
   "cell_type": "markdown",
   "metadata": {},
   "source": [
    "# Examples of failures\n",
    "\n",
    "Some failures that can arise are shown below."
   ]
  },
  {
   "cell_type": "code",
   "execution_count": 1,
   "metadata": {},
   "outputs": [
    {
     "name": "stdout",
     "output_type": "stream",
     "text": [
      "Loading vvp-vvpmagics.\n",
      "Registering vvpmagics for vvp.\n"
     ]
    }
   ],
   "source": [
    "%reload_ext vvpmagics"
   ]
  },
  {
   "cell_type": "markdown",
   "metadata": {},
   "source": [
    "## connect_vvp"
   ]
  },
  {
   "cell_type": "markdown",
   "metadata": {},
   "source": [
    "A `ConnectionError` is thrown when the host does not exist at the specified address and port:"
   ]
  },
  {
   "cell_type": "code",
   "execution_count": 3,
   "metadata": {},
   "outputs": [
    {
     "name": "stderr",
     "output_type": "stream",
     "text": [
      "HTTPConnectionPool(host='nonhost', port=8080): Max retries exceeded with url: /namespaces/v1/namespaces/default (Caused by NewConnectionError('<urllib3.connection.HTTPConnection object at 0x00000193D8D61A00>: Failed to establish a new connection: [Errno 11001] getaddrinfo failed'))\n"
     ]
    }
   ],
   "source": [
    "%connect_vvp -s mysession nonhost -n default"
   ]
  },
  {
   "cell_type": "code",
   "execution_count": 4,
   "metadata": {},
   "outputs": [
    {
     "name": "stderr",
     "output_type": "stream",
     "text": [
      "HTTPConnectionPool(host='localhost', port=9999): Max retries exceeded with url: /namespaces/v1/namespaces/default (Caused by NewConnectionError('<urllib3.connection.HTTPConnection object at 0x00000193D8D61A00>: Failed to establish a new connection: [WinError 10061] No connection could be made because the target machine actively refused it'))\n"
     ]
    }
   ],
   "source": [
    "%connect_vvp -s mysession localhost -p 9999 -n default"
   ]
  },
  {
   "cell_type": "markdown",
   "metadata": {},
   "source": [
    "Trying to connect to a nonexistent or invalid namespace (e.g., not fitting the correct naming pattern) will throw an exception:"
   ]
  },
  {
   "cell_type": "code",
   "execution_count": 5,
   "metadata": {
    "scrolled": true
   },
   "outputs": [
    {
     "name": "stderr",
     "output_type": "stream",
     "text": [
      "Invalid or empty namespace specified.\n"
     ]
    }
   ],
   "source": [
    "%connect_vvp -s mysession localhost -n DoesNotExist"
   ]
  },
  {
   "cell_type": "markdown",
   "metadata": {},
   "source": [
    "Correct use:"
   ]
  },
  {
   "cell_type": "code",
   "execution_count": 8,
   "metadata": {},
   "outputs": [
    {
     "data": {
      "text/plain": [
       "<vvpmagics.vvpsession.VvpSession at 0x193c8a86c10>"
      ]
     },
     "execution_count": 8,
     "metadata": {},
     "output_type": "execute_result"
    }
   ],
   "source": [
    "%connect_vvp -s mysession localhost -n default"
   ]
  },
  {
   "cell_type": "markdown",
   "metadata": {},
   "source": [
    "Trying to add a session with an existing name won't work unless forced:"
   ]
  },
  {
   "cell_type": "code",
   "execution_count": 4,
   "metadata": {
    "scrolled": true
   },
   "outputs": [
    {
     "name": "stderr",
     "output_type": "stream",
     "text": [
      "The session name mysession already exists. Please use --force to update.\n"
     ]
    }
   ],
   "source": [
    "%connect_vvp -s mysession localhost -n default"
   ]
  },
  {
   "cell_type": "markdown",
   "metadata": {},
   "source": [
    "## flink_sql\n",
    "Assuming that the table does not exist, then the following should succeed:"
   ]
  },
  {
   "cell_type": "code",
   "execution_count": 5,
   "metadata": {},
   "outputs": [
    {
     "name": "stderr",
     "output_type": "stream",
     "text": [
      "Invalid or unsupported SQL statement.\n",
      "{'validationResult': 'VALIDATION_RESULT_INVALID_QUERY', 'errorDetails': {'lineNumber': 0, 'columnNumber': 0, 'endLineNumber': 0, 'endColumnNumber': 0, 'message': 'Table `default`.`default`.`test` already exists.', 'cause': ''}}\n"
     ]
    }
   ],
   "source": [
    "%%flink_sql\n",
    "CREATE TABLE `test` (id int)\n",
    "COMMENT 'Will work if the table does not exist.'\n",
    "WITH (\n",
    "'connector.type' = 'kafka',\n",
    "'connector.version' = 'universal',\n",
    "'connector.topic' = 'testTopic',\n",
    "'connector.properties.bootstrap.servers' = 'localhost',\n",
    "'connector.properties.group.id' = 'testGroup',\n",
    "'connector.startup-mode' = 'earliest-offset'\n",
    ")\n"
   ]
  },
  {
   "cell_type": "markdown",
   "metadata": {},
   "source": [
    "Trying to do this again constitutes an invalid SQL query and so an exception is thrown:"
   ]
  },
  {
   "cell_type": "code",
   "execution_count": 8,
   "metadata": {
    "scrolled": true
   },
   "outputs": [
    {
     "name": "stderr",
     "output_type": "stream",
     "text": [
      "Invalid or unsupported SQL statement.\n"
     ]
    }
   ],
   "source": [
    "%%flink_sql\n",
    "CREATE TABLE `test` (id int)\n",
    "COMMENT 'Creating again will not work.'\n",
    "WITH (\n",
    "'connector.type' = 'kafka',\n",
    "'connector.version' = 'universal',\n",
    "'connector.topic' = 'testTopic',\n",
    "'connector.properties.bootstrap.servers' = 'localhost',\n",
    "'connector.properties.group.id' = 'testGroup',\n",
    "'connector.startup-mode' = 'earliest-offset'\n",
    ")\n"
   ]
  },
  {
   "cell_type": "code",
   "execution_count": 9,
   "metadata": {
    "scrolled": true
   },
   "outputs": [
    {
     "name": "stderr",
     "output_type": "stream",
     "text": [
      "Invalid or unsupported SQL statement.\n",
      "{'validationResult': 'VALIDATION_RESULT_INVALID_QUERY', 'errorDetails': {'lineNumber': 0, 'columnNumber': 0, 'endLineNumber': 0, 'endColumnNumber': 0, 'message': 'Table `default`.`default`.`nonexistent` does not exist.', 'cause': ''}}\n"
     ]
    }
   ],
   "source": [
    "%%flink_sql\n",
    "DROP TABLE nonexistent"
   ]
  },
  {
   "cell_type": "markdown",
   "metadata": {},
   "source": [
    "Any syntactically wrong statement also generates an error:"
   ]
  },
  {
   "cell_type": "code",
   "execution_count": 3,
   "metadata": {
    "scrolled": true
   },
   "outputs": [
    {
     "name": "stderr",
     "output_type": "stream",
     "text": [
      "Invalid or unsupported SQL statement.\n",
      "{'validationResult': 'VALIDATION_RESULT_INVALID_QUERY', 'errorDetails': {'lineNumber': 1, 'columnNumber': 1, 'endLineNumber': 1, 'endColumnNumber': 5, 'message': 'SQL parse failed. Non-query expression encountered in illegal context', 'cause': ''}}\n"
     ]
    }
   ],
   "source": [
    "%%flink_sql\n",
    "WRONG STATEMENT"
   ]
  },
  {
   "cell_type": "code",
   "execution_count": 10,
   "metadata": {},
   "outputs": [
    {
     "name": "stderr",
     "output_type": "stream",
     "text": [
      "The session name wrongSession is invalid.\n"
     ]
    }
   ],
   "source": [
    "%%flink_sql -s wrongSession\n",
    "WRONG STATEMENT"
   ]
  }
 ],
 "metadata": {
  "kernelspec": {
   "display_name": "Python 3",
   "language": "python",
   "name": "python3"
  },
  "language_info": {
   "codemirror_mode": {
    "name": "ipython",
    "version": 3
   },
   "file_extension": ".py",
   "mimetype": "text/x-python",
   "name": "python",
   "nbconvert_exporter": "python",
   "pygments_lexer": "ipython3",
   "version": "3.8.3"
  }
 },
 "nbformat": 4,
 "nbformat_minor": 4
}
