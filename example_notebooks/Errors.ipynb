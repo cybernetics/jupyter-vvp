{
 "cells": [
  {
   "cell_type": "markdown",
   "metadata": {},
   "source": [
    "# Examples of failures\n",
    "\n",
    "Some failures that can arise are shown below."
   ]
  },
  {
   "cell_type": "code",
   "execution_count": 1,
   "metadata": {},
   "outputs": [
    {
     "name": "stdout",
     "output_type": "stream",
     "text": [
      "Loading jupytervvp.\n",
      "Registering jupytervvp for vvp.\n"
     ]
    }
   ],
   "source": [
    "%reload_ext jupytervvp"
   ]
  },
  {
   "cell_type": "markdown",
   "metadata": {},
   "source": [
    "## connect_vvp"
   ]
  },
  {
   "cell_type": "markdown",
   "metadata": {},
   "source": [
    "A `ConnectionError` is thrown when the host does not exist at the specified address and port:"
   ]
  },
  {
   "cell_type": "code",
   "execution_count": 2,
   "metadata": {},
   "outputs": [
    {
     "name": "stderr",
     "output_type": "stream",
     "text": [
      "HTTPConnectionPool(host='nonhost', port=8080): Max retries exceeded with url: /api/v1/namespaces/default/deployment-targets (Caused by NewConnectionError('<urllib3.connection.HTTPConnection object at 0x0000029DF3DDA580>: Failed to establish a new connection: [Errno 11001] getaddrinfo failed'))\n"
     ]
    }
   ],
   "source": [
    "%connect_vvp -s mysession nonhost -n default"
   ]
  },
  {
   "cell_type": "code",
   "execution_count": 3,
   "metadata": {},
   "outputs": [
    {
     "name": "stderr",
     "output_type": "stream",
     "text": [
      "HTTPConnectionPool(host='localhost', port=9999): Max retries exceeded with url: /api/v1/namespaces/default/deployment-targets (Caused by NewConnectionError('<urllib3.connection.HTTPConnection object at 0x0000029DF3DDA400>: Failed to establish a new connection: [WinError 10061] No connection could be made because the target machine actively refused it'))\n"
     ]
    }
   ],
   "source": [
    "%connect_vvp -s mysession localhost -p 9999 -n default"
   ]
  },
  {
   "cell_type": "markdown",
   "metadata": {},
   "source": [
    "Trying to connect to a nonexistent or invalid namespace (e.g., not fitting the correct naming pattern) will throw an exception:"
   ]
  },
  {
   "cell_type": "code",
   "execution_count": 8,
   "metadata": {
    "scrolled": true
   },
   "outputs": [
    {
     "name": "stderr",
     "output_type": "stream",
     "text": [
      "Error verifying namespace: code 404 returned with message 'No such namespace namespaces/nosuchnamespace'.\n"
     ]
    }
   ],
   "source": [
    "%connect_vvp -s mysession localhost -n DoesNotExist"
   ]
  },
  {
   "cell_type": "markdown",
   "metadata": {},
   "source": [
    "Correct use:"
   ]
  },
  {
   "cell_type": "code",
   "execution_count": 6,
   "metadata": {},
   "outputs": [
    {
     "data": {
      "text/plain": [
       "<jupytervvp.vvpsession.VvpSession at 0x29df3dcef70>"
      ]
     },
     "execution_count": 6,
     "metadata": {},
     "output_type": "execute_result"
    }
   ],
   "source": [
    "%connect_vvp -s mysession localhost -n default"
   ]
  },
  {
   "cell_type": "markdown",
   "metadata": {},
   "source": [
    "Trying to add a session with an existing name won't work unless forced:"
   ]
  },
  {
   "cell_type": "code",
   "execution_count": 7,
   "metadata": {
    "scrolled": true
   },
   "outputs": [
    {
     "name": "stderr",
     "output_type": "stream",
     "text": [
      "The session name mysession already exists. Please use --force to update.\n"
     ]
    }
   ],
   "source": [
    "%connect_vvp -s mysession localhost -n default"
   ]
  },
  {
   "cell_type": "markdown",
   "metadata": {},
   "source": [
    "## flink_sql\n",
    "Assuming that the table does not exist, then the following should succeed:"
   ]
  },
  {
   "cell_type": "code",
   "execution_count": 9,
   "metadata": {},
   "outputs": [
    {
     "data": {
      "text/plain": [
       "{'result': 'RESULT_SUCCESS'}"
      ]
     },
     "execution_count": 9,
     "metadata": {},
     "output_type": "execute_result"
    }
   ],
   "source": [
    "%%flink_sql\n",
    "CREATE TABLE `test` (id int)\n",
    "COMMENT 'Will work if the table does not exist.'\n",
    "WITH (\n",
    "    'connector' = 'kafka',\n",
    "    'topic' = 'orders',\n",
    "    'properties.bootstrap.servers' = 'localhost:9092',\n",
    "    'properties.group.id' = 'orderGroup',\n",
    "    'format' = 'csv'\n",
    ")\n"
   ]
  },
  {
   "cell_type": "markdown",
   "metadata": {},
   "source": [
    "Trying to do this again constitutes an invalid SQL query and so an exception is thrown:"
   ]
  },
  {
   "cell_type": "code",
   "execution_count": 10,
   "metadata": {
    "scrolled": true
   },
   "outputs": [
    {
     "name": "stderr",
     "output_type": "stream",
     "text": [
      "Invalid or unsupported SQL statement: Table `vvp`.`default`.`test` already exists.\n"
     ]
    }
   ],
   "source": [
    "%%flink_sql\n",
    "CREATE TABLE `test` (id int)\n",
    "COMMENT 'Creating again will not work.'\n",
    "WITH (\n",
    "    'connector' = 'kafka',\n",
    "    'topic' = 'orders',\n",
    "    'properties.bootstrap.servers' = 'localhost:9092',\n",
    "    'properties.group.id' = 'orderGroup',\n",
    "    'format' = 'csv'\n",
    ")\n"
   ]
  },
  {
   "cell_type": "code",
   "execution_count": 11,
   "metadata": {
    "scrolled": true
   },
   "outputs": [
    {
     "name": "stderr",
     "output_type": "stream",
     "text": [
      "Invalid or unsupported SQL statement: Table `vvp`.`default`.`nonexistent` does not exist.\n"
     ]
    }
   ],
   "source": [
    "%%flink_sql\n",
    "DROP TABLE nonexistent"
   ]
  },
  {
   "cell_type": "markdown",
   "metadata": {},
   "source": [
    "Any syntactically wrong statement also generates an error:"
   ]
  },
  {
   "cell_type": "code",
   "execution_count": 12,
   "metadata": {
    "scrolled": true
   },
   "outputs": [
    {
     "name": "stderr",
     "output_type": "stream",
     "text": [
      "Invalid or unsupported SQL statement: Could not parse SQL: Non-query expression encountered in illegal context. Statement was: WRONG STATEMENT\n",
      "\n"
     ]
    }
   ],
   "source": [
    "%%flink_sql\n",
    "WRONG STATEMENT"
   ]
  },
  {
   "cell_type": "code",
   "execution_count": 13,
   "metadata": {},
   "outputs": [
    {
     "name": "stderr",
     "output_type": "stream",
     "text": [
      "The session name wrongSession is invalid.\n"
     ]
    }
   ],
   "source": [
    "%%flink_sql -s wrongSession\n",
    "WRONG STATEMENT"
   ]
  }
 ],
 "metadata": {
  "kernelspec": {
   "display_name": "vvpmagics",
   "language": "python",
   "name": "vvpmagics"
  },
  "language_info": {
   "codemirror_mode": {
    "name": "ipython",
    "version": 3
   },
   "file_extension": ".py",
   "mimetype": "text/x-python",
   "name": "python",
   "nbconvert_exporter": "python",
   "pygments_lexer": "ipython3",
   "version": "3.8.5"
  }
 },
 "nbformat": 4,
 "nbformat_minor": 4
}
