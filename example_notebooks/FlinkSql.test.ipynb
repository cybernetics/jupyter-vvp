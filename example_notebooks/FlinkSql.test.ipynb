{
 "cells": [
  {
   "cell_type": "markdown",
   "metadata": {},
   "source": [
    "Note that you will need to use the **FlinkSql** kernel if you want to have autocompletion within SQL cells."
   ]
  },
  {
   "cell_type": "code",
   "execution_count": null,
   "metadata": {
    "pycharm": {
     "name": "#%%\n"
    }
   },
   "outputs": [],
   "source": [
    "%reload_ext jupytervvp\n",
    "%connect_vvp -n default localhost -p 8080 -s mySession --force"
   ]
  },
  {
   "cell_type": "code",
   "execution_count": null,
   "metadata": {},
   "outputs": [],
   "source": [
    "%%flink_sql\n",
    "CREATE TABLE `testTable1` (id int)\n",
    "COMMENT 'SomeComment'\n",
    "WITH (\n",
    "    'connector.type' = 'kafka',\n",
    "    'connector.version' = 'universal',\n",
    "    'connector.topic' = 'topic',\n",
    "    'connector.properties.bootstrap.servers' = 'localhost',\n",
    "    'format.type' = 'json',\n",
    "    'format.derive-schema' = 'true'\n",
    ")"
   ]
  },
  {
   "cell_type": "code",
   "execution_count": null,
   "metadata": {
    "pycharm": {
     "name": "#%%\n"
    }
   },
   "outputs": [],
   "source": [
    "%%flink_sql\n",
    "ALTER TABLE `testTable1` SET (\n",
    "    'connector.type' = 'kafka',\n",
    "    'connector.version' = 'universal',\n",
    "    'connector.topic' = 'topic1',\n",
    "    'connector.properties.bootstrap.servers' = 'localhost',\n",
    "    'format.type' = 'json',\n",
    "    'format.derive-schema' = 'true'\n",
    ")"
   ]
  },
  {
   "cell_type": "markdown",
   "metadata": {},
   "source": [
    "Variables can also be used:"
   ]
  },
  {
   "cell_type": "code",
   "execution_count": null,
   "metadata": {
    "pycharm": {
     "name": "#%%\n"
    }
   },
   "outputs": [],
   "source": [
    "topic_name = \"myTopic\"\n",
    "parallelism = 2\n",
    "deployment_name = \"testName\""
   ]
  },
  {
   "cell_type": "code",
   "execution_count": null,
   "metadata": {
    "pycharm": {
     "name": "#%%\n"
    }
   },
   "outputs": [],
   "source": [
    "%%flink_sql\n",
    "CREATE TABLE `testTable2` (id int)\n",
    "COMMENT 'SomeComment'\n",
    "WITH (\n",
    "    'connector.type' = 'kafka',\n",
    "    'connector.version' = 'universal',\n",
    "    'connector.topic' = '{topic_name}',\n",
    "    'connector.properties.bootstrap.servers' = 'localhost',\n",
    "    'format.type' = 'json',\n",
    "    'format.derive-schema' = 'true'\n",
    ")"
   ]
  },
  {
   "cell_type": "markdown",
   "metadata": {},
   "source": [
    "Deployment parameters (for e.g., `INSERT INTO` statements) can be set as a Python dictionary object.\n",
    "Notice that variables here are not interpolated and usual Python syntax can be used:"
   ]
  },
  {
   "cell_type": "code",
   "execution_count": null,
   "metadata": {},
   "outputs": [],
   "source": [
    "my_deployment_parameters = {\n",
    "        \"metadata.name\": \"{}\".format(deployment_name),\n",
    "        \"spec.template.spec.parallelism\": parallelism,\n",
    "        \"spec.upradeStrategy.kind\": \"STATEFUL\",\n",
    "        \"spec.restoreStrategy.kind\": \"LATEST_STATE\",\n",
    "        \"spec.template.spec.flinkConfiguration.state.backend\": \"filesystem\",\n",
    "        \"spec.template.spec.flinkConfiguration.taskmanager.memory.managed.fraction\": \"0.1\",\n",
    "        \"spec.template.spec.flinkConfiguration.high-availability\": \"vvp-kubernetes\"\n",
    "}"
   ]
  },
  {
   "cell_type": "markdown",
   "metadata": {},
   "source": [
    "The following succeeds only when a default deployment target has been set up using the platform,\n",
    "or when a target has been set up and is specified via a settings object."
   ]
  },
  {
   "cell_type": "code",
   "execution_count": null,
   "metadata": {
    "pycharm": {
     "name": "#%%\n"
    }
   },
   "outputs": [],
   "source": [
    "%%flink_sql -p my_deployment_parameters -d\n",
    "INSERT INTO testTable2 SELECT * FROM testTable1"
   ]
  },
  {
   "cell_type": "code",
   "execution_count": null,
   "metadata": {
    "pycharm": {
     "name": "#%%\n"
    }
   },
   "outputs": [],
   "source": [
    "%%flink_sql\n",
    "DROP TABLE `testTable1`"
   ]
  },
  {
   "cell_type": "code",
   "execution_count": null,
   "metadata": {
    "pycharm": {
     "name": "#%%\n"
    }
   },
   "outputs": [],
   "source": [
    "%%flink_sql\n",
    "DROP TABLE `testTable2`"
   ]
  },
  {
   "cell_type": "code",
   "execution_count": null,
   "metadata": {
    "pycharm": {
     "name": "#%%\n"
    }
   },
   "outputs": [],
   "source": [
    "%%flink_sql\n",
    "SHOW TABLES"
   ]
  }
 ],
 "metadata": {
  "kernelspec": {
   "display_name": "FlinkSql",
   "language": "python",
   "name": "flinksqlkernel"
  },
  "language_info": {
   "codemirror_mode": {
    "name": "ipython",
    "version": 3
   },
   "file_extension": ".py",
   "mimetype": "text/x-python",
   "name": "python",
   "nbconvert_exporter": "python",
   "pygments_lexer": "ipython3",
   "version": "3.6.9"
  }
 },
 "nbformat": 4,
 "nbformat_minor": 1
}
